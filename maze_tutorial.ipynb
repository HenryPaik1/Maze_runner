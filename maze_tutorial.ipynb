{
 "cells": [
  {
   "cell_type": "markdown",
   "metadata": {},
   "source": [
    "# Tutorial\n",
    "- execute all the functions step by step\n",
    "- 벽1, 통로2, 시작3, 끝4, 경유지(key)6\n",
    "- Ignore 경유지"
   ]
  },
  {
   "cell_type": "code",
   "execution_count": 1,
   "metadata": {},
   "outputs": [],
   "source": [
    "import copy\n",
    "import math\n",
    "import itertools"
   ]
  },
  {
   "cell_type": "code",
   "execution_count": 3,
   "metadata": {},
   "outputs": [],
   "source": [
    "PATH = 'test.txt'\n",
    "def read_data(PATH):\n",
    "    \"\"\"\n",
    "    txt file을 읽어서 미로를 list형태로 반환\n",
    "    \"\"\"\n",
    "    maze = []\n",
    "    with open(PATH) as f:\n",
    "        for i, l in enumerate(f):\n",
    "            if i == 0:\n",
    "                _, max_row, max_col = list(map(int, l.split()))\n",
    "                continue\n",
    "            maze.append(l.replace('\\n',''))\n",
    "    maze = [list(i) for i in maze]\n",
    "    maze = [list(map(int, l)) for l in maze]\n",
    "    return maze, max_row, max_col\n",
    "maze, max_row, max_col = read_data(PATH)"
   ]
  },
  {
   "cell_type": "code",
   "execution_count": 4,
   "metadata": {},
   "outputs": [
    {
     "data": {
      "text/plain": [
       "[[1, 1, 3, 1, 1, 1, 1, 1, 1, 1, 1, 1],\n",
       " [1, 2, 2, 2, 2, 2, 2, 2, 2, 2, 2, 1],\n",
       " [1, 2, 1, 1, 2, 1, 1, 1, 1, 1, 2, 1],\n",
       " [1, 2, 1, 2, 2, 1, 2, 2, 2, 1, 2, 1],\n",
       " [1, 2, 1, 2, 1, 2, 2, 1, 2, 1, 2, 1],\n",
       " [1, 2, 1, 6, 1, 2, 1, 1, 2, 1, 1, 1],\n",
       " [1, 2, 1, 1, 1, 2, 2, 1, 2, 1, 2, 1],\n",
       " [1, 2, 1, 2, 1, 1, 2, 1, 2, 1, 2, 1],\n",
       " [1, 2, 2, 2, 2, 2, 2, 1, 2, 2, 2, 1],\n",
       " [1, 1, 1, 1, 1, 1, 1, 1, 1, 1, 2, 1],\n",
       " [1, 2, 2, 2, 2, 2, 2, 2, 2, 2, 2, 1],\n",
       " [1, 1, 4, 1, 1, 1, 1, 1, 1, 1, 1, 1]]"
      ]
     },
     "execution_count": 4,
     "metadata": {},
     "output_type": "execute_result"
    }
   ],
   "source": [
    "maze"
   ]
  },
  {
   "cell_type": "code",
   "execution_count": 12,
   "metadata": {},
   "outputs": [],
   "source": [
    "def find_start_key_num_goal(maze:list):\n",
    "    \"\"\"\n",
    "    start point, key갯수, goal point를 반환 \n",
    "    \"\"\"\n",
    "    keys = []\n",
    "    for i, l in enumerate(maze): # i=row\n",
    "        for j, val in enumerate(l): # j=column\n",
    "            if val == 3:\n",
    "                start = (i, j)\n",
    "            if val == 6:\n",
    "                keys.append((i, j))\n",
    "            if val == 4:\n",
    "                end = (i, j)\n",
    "    return start, keys, end"
   ]
  },
  {
   "cell_type": "code",
   "execution_count": 13,
   "metadata": {},
   "outputs": [],
   "source": [
    "def get_neighbor(vertex:tuple, max_row:int, max_col:int):\n",
    "    \"\"\"\n",
    "    vertex의 neighbor list 생성\n",
    "    벽은 neighbor에서 제외\n",
    "    \"\"\"\n",
    "    \n",
    "    neighbors = []\n",
    "    i, j = vertex\n",
    "    #상\n",
    "    if i-1 > 0:\n",
    "        if maze[i-1][j] != 1:\n",
    "            neighbors.append((i-1, j))\n",
    "    #하\n",
    "    if i+1 < max_row:\n",
    "        if maze[i+1][j] != 1:\n",
    "            neighbors.append((i+1, j))\n",
    "    #좌\n",
    "    if j-1 > 0:\n",
    "        if maze[i][j-1] != 1:\n",
    "            neighbors.append((i, j-1))\n",
    "    \n",
    "    #우\n",
    "    if j+1 < max_col:\n",
    "        if maze[i][j+1] != 1:\n",
    "            neighbors.append((i, j+1))\n",
    "    \n",
    "    return neighbors"
   ]
  },
  {
   "cell_type": "code",
   "execution_count": null,
   "metadata": {},
   "outputs": [],
   "source": [
    "def get_route(maze):\n",
    "    \"\"\"\n",
    "    start, stopover(key), goal route를 구함\n",
    "    \"\"\"\n",
    "    start, keys, end = find_start_key_num_goal(maze)\n",
    "    print(\"start point, stop over, goal:\", start, keys, end)\n",
    "\n",
    "    route = []\n",
    "#     keys=[(1,0),(3,4),(5,5)]\n",
    "    key_permute = list(itertools.permutations(keys))\n",
    "    for tup in key_permute:\n",
    "        ls = [start]\n",
    "        ls.extend(list(tup))\n",
    "        ls.append(end)\n",
    "        route.append(ls)\n",
    "    \n",
    "    return route"
   ]
  },
  {
   "cell_type": "code",
   "execution_count": 14,
   "metadata": {},
   "outputs": [],
   "source": [
    "def find_start_key_num_goal(maze:list):\n",
    "    \"\"\"\n",
    "    start point, key갯수, goal point를 반환 \n",
    "    \"\"\"\n",
    "    keys = []\n",
    "    for i, l in enumerate(maze): # i=row\n",
    "        for j, val in enumerate(l): # j=column\n",
    "            if val == 3:\n",
    "                start = (i, j)\n",
    "            if val == 6:\n",
    "                keys.append((i, j))\n",
    "            if val == 4:\n",
    "                end = (i, j)\n",
    "    return start, keys, end"
   ]
  },
  {
   "cell_type": "code",
   "execution_count": 26,
   "metadata": {},
   "outputs": [],
   "source": [
    "def _convert_maze(maze):\n",
    "    return [' '.join([str(i) for i in l]) for l in maze]\n",
    "\n",
    "def print_out(maze, path_ls, visit_time):\n",
    "    \"\"\"\n",
    "    pretty print\n",
    "    \"\"\"\n",
    "    maze_copy = copy.deepcopy(maze)\n",
    "    for i_,j_ in path_ls:\n",
    "        maze_copy[i_][j_] = 0\n",
    "    maze_copy = _convert_maze(maze_copy)\n",
    "    for l in maze_copy:\n",
    "        print(l)\n",
    "    print('---')\n",
    "    print('length={}'.format(len(path_ls)))\n",
    "    print('time={}'.format(visit_time))"
   ]
  },
  {
   "cell_type": "markdown",
   "metadata": {},
   "source": [
    "# BFS"
   ]
  },
  {
   "cell_type": "code",
   "execution_count": 33,
   "metadata": {},
   "outputs": [
    {
     "name": "stdout",
     "output_type": "stream",
     "text": [
      "start point, stop over, goal: (0, 2) [(5, 3)] (11, 2)\n"
     ]
    }
   ],
   "source": [
    "route = get_route(maze)"
   ]
  },
  {
   "cell_type": "code",
   "execution_count": 36,
   "metadata": {},
   "outputs": [],
   "source": [
    "start, key, end = route[0]"
   ]
  },
  {
   "cell_type": "code",
   "execution_count": 21,
   "metadata": {},
   "outputs": [],
   "source": [
    "def bfs(maze, max_row, max_col, start, end):\n",
    "    Q = [[start]]\n",
    "    visited = set()\n",
    "    j=0\n",
    "\n",
    "    while Q:\n",
    "        j += 1 # visit node갯수\n",
    "        path_ls = Q.pop(0) # Q에 노드 대신 노드 history모두 저장\n",
    "        vertex = path_ls[-1] # 시작\n",
    "        if vertex == end: # goal이면 끝\n",
    "            break\n",
    "        elif vertex not in visited: # goal 아니면 \n",
    "            visited.add(vertex)     # visit\n",
    "            for neighbor in get_neighbor(vertex, max_row, max_col): # node expanding\n",
    "                if neighbor not in visited:\n",
    "                    new_path = list(path_ls)\n",
    "                    new_path.append(neighbor) # 기존 path에 neighbor node 추가하여 update\n",
    "                    Q.append(new_path) # Q 업데이트: 신규 node 포함된 route \n",
    "    return path_ls, j"
   ]
  },
  {
   "cell_type": "code",
   "execution_count": 37,
   "metadata": {},
   "outputs": [],
   "source": [
    "path_ls_bfs, j_bfs = bfs(maze, max_row, max_col, start, end)"
   ]
  },
  {
   "cell_type": "code",
   "execution_count": 38,
   "metadata": {},
   "outputs": [
    {
     "name": "stdout",
     "output_type": "stream",
     "text": [
      "[(0, 2), (1, 2), (1, 1), (2, 1), (3, 1), (4, 1), (5, 1), (6, 1), (7, 1), (8, 1), (8, 2), (8, 3), (8, 4), (8, 5), (8, 6), (7, 6), (6, 6), (6, 5), (5, 5), (4, 5), (4, 6), (3, 6), (3, 7), (3, 8), (4, 8), (5, 8), (6, 8), (7, 8), (8, 8), (8, 9), (8, 10), (9, 10), (10, 10), (10, 9), (10, 8), (10, 7), (10, 6), (10, 5), (10, 4), (10, 3), (10, 2), (11, 2)]\n"
     ]
    }
   ],
   "source": [
    "print(path_ls_bfs)"
   ]
  },
  {
   "cell_type": "code",
   "execution_count": 39,
   "metadata": {},
   "outputs": [
    {
     "name": "stdout",
     "output_type": "stream",
     "text": [
      "1 1 0 1 1 1 1 1 1 1 1 1\n",
      "1 0 0 2 2 2 2 2 2 2 2 1\n",
      "1 0 1 1 2 1 1 1 1 1 2 1\n",
      "1 0 1 2 2 1 0 0 0 1 2 1\n",
      "1 0 1 2 1 0 0 1 0 1 2 1\n",
      "1 0 1 6 1 0 1 1 0 1 1 1\n",
      "1 0 1 1 1 0 0 1 0 1 2 1\n",
      "1 0 1 2 1 1 0 1 0 1 2 1\n",
      "1 0 0 0 0 0 0 1 0 0 0 1\n",
      "1 1 1 1 1 1 1 1 1 1 0 1\n",
      "1 2 0 0 0 0 0 0 0 0 0 1\n",
      "1 1 0 1 1 1 1 1 1 1 1 1\n",
      "---\n",
      "length=42\n",
      "time=61\n"
     ]
    }
   ],
   "source": [
    "print_out(maze, path_ls_bfs, j_bfs)"
   ]
  },
  {
   "cell_type": "markdown",
   "metadata": {},
   "source": [
    "# IDS"
   ]
  },
  {
   "cell_type": "code",
   "execution_count": 40,
   "metadata": {},
   "outputs": [],
   "source": [
    "start, keys, end = find_start_key_num_goal(maze)\n",
    "\n",
    "def ids(maze, max_row, max_col, start, end):\n",
    "    is_goal = False\n",
    "    j = 0\n",
    "    for max_depth in range(1000000): \n",
    "\n",
    "        # stack에서 나와서\n",
    "        # expanding할 때 visit(O)\n",
    "        # stack에 넣을 때 visit(X)\n",
    "        stack = [[start]]\n",
    "        visited = set()\n",
    "        while stack:\n",
    "            path_ls = stack.pop() # 현재까지 route\n",
    "            depth = len(path_ls) # 현재까지 move (depth를 move횟수로 정의)\n",
    "            vertex = path_ls[-1]\n",
    "            if vertex == end:\n",
    "                is_goal = True\n",
    "                break\n",
    "            elif (vertex not in visited) and (depth <= max_depth): # node expanding하려면 max depth보다 작아야 함\n",
    "                visited.add(vertex)\n",
    "                j+=1\n",
    "                for neighbor in get_neighbor(vertex, max_row, max_col):\n",
    "                    if neighbor not in visited:\n",
    "                        new_path = list(path_ls)\n",
    "                        new_path.append(neighbor)\n",
    "                        stack.append(new_path)\n",
    "        if is_goal:\n",
    "            return path_ls, j"
   ]
  },
  {
   "cell_type": "code",
   "execution_count": 41,
   "metadata": {},
   "outputs": [],
   "source": [
    "path_ls_ids, j_ids = ids(maze, max_row, max_col, start, end)"
   ]
  },
  {
   "cell_type": "code",
   "execution_count": 42,
   "metadata": {},
   "outputs": [
    {
     "name": "stdout",
     "output_type": "stream",
     "text": [
      "1 1 0 1 1 1 1 1 1 1 1 1\n",
      "1 0 0 2 2 2 2 2 2 2 2 1\n",
      "1 0 1 1 2 1 1 1 1 1 2 1\n",
      "1 0 1 2 2 1 0 0 0 1 2 1\n",
      "1 0 1 2 1 0 0 1 0 1 2 1\n",
      "1 0 1 6 1 0 1 1 0 1 1 1\n",
      "1 0 1 1 1 0 0 1 0 1 2 1\n",
      "1 0 1 2 1 1 0 1 0 1 2 1\n",
      "1 0 0 0 0 0 0 1 0 0 0 1\n",
      "1 1 1 1 1 1 1 1 1 1 0 1\n",
      "1 2 0 0 0 0 0 0 0 0 0 1\n",
      "1 1 0 1 1 1 1 1 1 1 1 1\n",
      "---\n",
      "length=42\n",
      "time=1455\n"
     ]
    }
   ],
   "source": [
    "print_out(maze, path_ls_ids, j_ids)"
   ]
  },
  {
   "cell_type": "markdown",
   "metadata": {},
   "source": [
    "# GBFS"
   ]
  },
  {
   "cell_type": "code",
   "execution_count": 43,
   "metadata": {},
   "outputs": [],
   "source": [
    "import math\n",
    "\n",
    "def get_distance(last_node, target_node):\n",
    "    i, j = last_node\n",
    "    x, y = target_node\n",
    "    return math.sqrt((i-x)**2 + (j-y)**2)\n",
    "\n",
    "def sort_Q(Q, end):\n",
    "    \"\"\"\n",
    "    현재 노드에서 end노드까지 직선거리에 따라 오름차순으로 Q를 정렬\n",
    "    \"\"\"\n",
    "    resort = []\n",
    "    for i, path_ls in enumerate(Q):\n",
    "        last_node = path_ls[-1]\n",
    "        dist = get_distance(last_node, end)\n",
    "        resort.append((i, dist))\n",
    "    resort = sorted(resort, key=lambda x: x[1]) # 거리 가장 작은 게 맨 앞으로\n",
    "    resort = [i[0] for i in resort] # sort된 idx만 추출\n",
    "    return [Q[i] for i in resort] # 가장 작은 순으로 path_ls 정렬(거리 오름차순)"
   ]
  },
  {
   "cell_type": "code",
   "execution_count": 44,
   "metadata": {},
   "outputs": [],
   "source": [
    "start, keys, end = find_start_key_num_goal(maze)\n",
    "\n",
    "def gbfs(maze, max_row, max_col, start, end):\n",
    "    Q = [[start]]\n",
    "    visited = set()\n",
    "    j=0\n",
    "    while Q:\n",
    "        path_ls = Q.pop(0) # Q에 노드 대신 노드 history모두 저장\n",
    "        vertex = path_ls[-1] # 시작\n",
    "        if vertex == end: # goal이면 끝\n",
    "            break\n",
    "        elif vertex not in visited: # goal 아니면 \n",
    "            visited.add(vertex)     # visit\n",
    "            j+=1\n",
    "            for neighbor in get_neighbor(vertex, max_row, max_col): # node expanding\n",
    "                if neighbor not in visited:\n",
    "                    new_path = list(path_ls)\n",
    "                    new_path.append(neighbor) # 기존 path에 neighbor node 추가하여 update\n",
    "                    Q.append(new_path) # Q 업데이트: 신규 node 포함된 route \n",
    "                    Q = sort_Q(Q, end) # priority Queue by h(n)\n",
    "    return path_ls, j"
   ]
  },
  {
   "cell_type": "code",
   "execution_count": 45,
   "metadata": {},
   "outputs": [],
   "source": [
    "path_ls_gbfs, j_gbfs = gbfs(maze, max_row, max_col, start, end)"
   ]
  },
  {
   "cell_type": "code",
   "execution_count": 46,
   "metadata": {},
   "outputs": [
    {
     "name": "stdout",
     "output_type": "stream",
     "text": [
      "1 1 0 1 1 1 1 1 1 1 1 1\n",
      "1 0 0 2 2 2 2 2 2 2 2 1\n",
      "1 0 1 1 2 1 1 1 1 1 2 1\n",
      "1 0 1 2 2 1 0 0 0 1 2 1\n",
      "1 0 1 2 1 0 0 1 0 1 2 1\n",
      "1 0 1 6 1 0 1 1 0 1 1 1\n",
      "1 0 1 1 1 0 0 1 0 1 2 1\n",
      "1 0 1 2 1 1 0 1 0 1 2 1\n",
      "1 0 0 0 0 0 0 1 0 0 0 1\n",
      "1 1 1 1 1 1 1 1 1 1 0 1\n",
      "1 2 0 0 0 0 0 0 0 0 0 1\n",
      "1 1 0 1 1 1 1 1 1 1 1 1\n",
      "---\n",
      "length=42\n",
      "time=42\n"
     ]
    }
   ],
   "source": [
    "print_out(maze, path_ls_gbfs, j_gbfs)"
   ]
  },
  {
   "cell_type": "markdown",
   "metadata": {},
   "source": [
    "# A_star"
   ]
  },
  {
   "cell_type": "code",
   "execution_count": 47,
   "metadata": {},
   "outputs": [],
   "source": [
    "import math\n",
    "\n",
    "def get_distance(last_node, target_node):\n",
    "    i, j = last_node\n",
    "    x, y = target_node\n",
    "    return math.sqrt((i-x)**2 + (j-y)**2)\n",
    "\n",
    "def sort_Q2(Q, start, end):\n",
    "    \"\"\"\n",
    "    (현재 노드에서 end노드까지 직선거리 + 시작점에서 현재 노드까지 거리) 따라 오름차순으로 Q를 정렬\n",
    "    \"\"\"\n",
    "    resort = []\n",
    "    for i, path_ls in enumerate(Q):\n",
    "        last_node = path_ls[-1]\n",
    "        dist1 = get_distance(last_node, end) # h(n)\n",
    "        dist2 = get_distance(last_node, start)# g(n)\n",
    "        dist = dist1 + dist2 #f(n) = g(n) + h(n)\n",
    "        resort.append((i, dist))\n",
    "    resort = sorted(resort, key=lambda x: x[1]) # 거리 가장 작은 게 맨 앞으로\n",
    "    resort = [i[0] for i in resort] # sort된 idx만 추출\n",
    "    return [Q[i] for i in resort] # 가장 작은 순으로 path_ls 정렬(거리 오름차순)"
   ]
  },
  {
   "cell_type": "code",
   "execution_count": 48,
   "metadata": {},
   "outputs": [],
   "source": [
    "start, keys, end = find_start_key_num_goal(maze)\n",
    "\n",
    "def a_star(maze, max_row, max_col, start, end):\n",
    "    Q = [[start]]\n",
    "    visited = set()\n",
    "    j=0\n",
    "    while Q:\n",
    "        path_ls = Q.pop(0) # Q에 노드 대신 노드 history모두 저장\n",
    "        vertex = path_ls[-1] # 시작\n",
    "        if vertex == end: # goal이면 끝\n",
    "            break\n",
    "        elif vertex not in visited: # goal 아니면 \n",
    "            visited.add(vertex)     # visit\n",
    "            j+=1\n",
    "            for neighbor in get_neighbor(vertex, max_row, max_col): # node expanding\n",
    "                if neighbor not in visited:\n",
    "                    new_path = list(path_ls)\n",
    "                    new_path.append(neighbor) # 기존 path에 neighbor node 추가하여 update\n",
    "                    Q.append(new_path) # Q 업데이트: 신규 node 포함된 route \n",
    "                    Q = sort_Q2(Q, start, end) # g(n)+h(n)에 따라 Q sort\n",
    "    return path_ls, j"
   ]
  },
  {
   "cell_type": "code",
   "execution_count": 49,
   "metadata": {},
   "outputs": [],
   "source": [
    "path_ls_star, j_star = a_star(maze, max_row, max_col, start, end)"
   ]
  },
  {
   "cell_type": "code",
   "execution_count": 50,
   "metadata": {},
   "outputs": [
    {
     "name": "stdout",
     "output_type": "stream",
     "text": [
      "1 1 0 1 1 1 1 1 1 1 1 1\n",
      "1 0 0 2 2 2 2 2 2 2 2 1\n",
      "1 0 1 1 2 1 1 1 1 1 2 1\n",
      "1 0 1 2 2 1 0 0 0 1 2 1\n",
      "1 0 1 2 1 0 0 1 0 1 2 1\n",
      "1 0 1 6 1 0 1 1 0 1 1 1\n",
      "1 0 1 1 1 0 0 1 0 1 2 1\n",
      "1 0 1 2 1 1 0 1 0 1 2 1\n",
      "1 0 0 0 0 0 0 1 0 0 0 1\n",
      "1 1 1 1 1 1 1 1 1 1 0 1\n",
      "1 2 0 0 0 0 0 0 0 0 0 1\n",
      "1 1 0 1 1 1 1 1 1 1 1 1\n",
      "---\n",
      "length=42\n",
      "time=60\n"
     ]
    }
   ],
   "source": [
    "print_out(maze, path_ls_star, j_star)"
   ]
  },
  {
   "cell_type": "markdown",
   "metadata": {},
   "source": [
    "---\n",
    "# And keys\n",
    "- 경유지 고려한 code"
   ]
  },
  {
   "cell_type": "code",
   "execution_count": 51,
   "metadata": {},
   "outputs": [],
   "source": [
    "def _convert_maze(maze):\n",
    "    return [' '.join([str(i) for i in l]) for l in maze]\n",
    "\n",
    "def get_length_time(maze, path_ls_ls, j_ls):\n",
    "    \"\"\"\n",
    "    각 경유지 루트에 대한 건을 합쳐서 length와 time 반환\n",
    "    \"\"\"\n",
    "    maze_copy = copy.deepcopy(maze)\n",
    "    for path_ls in path_ls_ls:\n",
    "        for i_,j_ in path_ls[1:-1]:\n",
    "            maze_copy[i_][j_] = 5\n",
    "    \n",
    "    length=0\n",
    "    key_num = 0\n",
    "    for row in maze_copy:\n",
    "        for elem in row:\n",
    "            if elem == 5 or elem == 6:\n",
    "                length += 1\n",
    "            if elem == 6:\n",
    "                key_num += 1\n",
    "    \n",
    "    time = sum(j_ls)-key_num              # key는 2번 방문하므로 한번 빼줘야 함\n",
    "    maze_copy = _convert_maze(maze_copy) # print할 수 있게 변환\n",
    "    \n",
    "    return length, time, maze_copy\n",
    "\n",
    "def find_goal_and_key(maze, search_algo):\n",
    "    \"\"\"\n",
    "    - main함수\n",
    "    - length(path길이), time(visited node갯수), answer_path(shortest path) 찾음\n",
    "    \"\"\"\n",
    "    max_row, max_col = len(maze), len(maze[0])\n",
    "    route = get_route(maze)\n",
    "    length = 100000000000000000000000000000000000; time = 0; answer_path = None;\n",
    "    \n",
    "    for r in route:     # 가능한 루트 iterate\n",
    "        path_ls_ls = [] # 각 루트에 대해 경유지 path list\n",
    "        j_ls = []       # 각 루트에 대해 경유지까지 모든 방문 node\n",
    "        start = r[0]    # start node\n",
    "        p = start\n",
    "        for q in r[1:]:\n",
    "            path_ls, j = search_algo(maze, max_row, max_col, start=p, end=q)\n",
    "            path_ls_ls.append(path_ls)\n",
    "            j_ls.append(j)\n",
    "            p = q\n",
    "        \n",
    "        # 해당 루트의 length와 time\n",
    "        path_length, path_time, maze_path = get_length_time(maze, path_ls_ls, j_ls)\n",
    "        if path_length < length:\n",
    "            length = path_length\n",
    "            time = path_time\n",
    "            answer_path = copy.deepcopy(maze_path)\n",
    "    \n",
    "    return length, time, answer_path"
   ]
  },
  {
   "cell_type": "code",
   "execution_count": 52,
   "metadata": {},
   "outputs": [
    {
     "name": "stdout",
     "output_type": "stream",
     "text": [
      "start point, stop over, goal: (0, 2) [(5, 3)] (11, 2)\n"
     ]
    }
   ],
   "source": [
    "len_, time_, path_ = find_goal_and_key(maze, bfs)"
   ]
  },
  {
   "cell_type": "code",
   "execution_count": 53,
   "metadata": {},
   "outputs": [
    {
     "data": {
      "text/plain": [
       "(47, 79)"
      ]
     },
     "execution_count": 53,
     "metadata": {},
     "output_type": "execute_result"
    }
   ],
   "source": [
    "len_, time_"
   ]
  },
  {
   "cell_type": "code",
   "execution_count": 54,
   "metadata": {},
   "outputs": [
    {
     "data": {
      "text/plain": [
       "['1 1 3 1 1 1 1 1 1 1 1 1',\n",
       " '1 5 5 5 5 2 2 2 2 2 2 1',\n",
       " '1 5 1 1 5 1 1 1 1 1 2 1',\n",
       " '1 5 1 5 5 1 5 5 5 1 2 1',\n",
       " '1 5 1 5 1 5 5 1 5 1 2 1',\n",
       " '1 5 1 6 1 5 1 1 5 1 1 1',\n",
       " '1 5 1 1 1 5 5 1 5 1 2 1',\n",
       " '1 5 1 2 1 1 5 1 5 1 2 1',\n",
       " '1 5 5 5 5 5 5 1 5 5 5 1',\n",
       " '1 1 1 1 1 1 1 1 1 1 5 1',\n",
       " '1 2 5 5 5 5 5 5 5 5 5 1',\n",
       " '1 1 4 1 1 1 1 1 1 1 1 1']"
      ]
     },
     "execution_count": 54,
     "metadata": {},
     "output_type": "execute_result"
    }
   ],
   "source": [
    "path_"
   ]
  }
 ],
 "metadata": {
  "kernelspec": {
   "display_name": "torch37",
   "language": "python",
   "name": "torch37"
  },
  "language_info": {
   "codemirror_mode": {
    "name": "ipython",
    "version": 3
   },
   "file_extension": ".py",
   "mimetype": "text/x-python",
   "name": "python",
   "nbconvert_exporter": "python",
   "pygments_lexer": "ipython3",
   "version": "3.7.7"
  }
 },
 "nbformat": 4,
 "nbformat_minor": 4
}
